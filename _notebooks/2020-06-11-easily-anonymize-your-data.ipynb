{
 "cells": [
  {
   "cell_type": "markdown",
   "metadata": {},
   "source": [
    "# Easily anonymize your data\n",
    "> You can do better than an md5 hash with this convenient way to anonymize your data while keeping analytical relationships\n",
    "\n",
    "- toc: true\n",
    "- badges: true\n",
    "- comments: true\n",
    "- image: images/header_images/anonymize_header.png\n",
    "- categories: [Python, Alteryx]"
   ]
  },
  {
   "cell_type": "markdown",
   "metadata": {},
   "source": [
    "Let's imagine two scenarios:\n",
    "- You're hiring consultants to work on your data but need to anonymize it first\n",
    "- You created something great that you want to make into a template for other people who can't see the data\n",
    "\n",
    "How would you personally go about solving this?"
   ]
  },
  {
   "cell_type": "markdown",
   "metadata": {},
   "source": [
    "# Anonymize df\n",
    "\n",
    "I've been confronted with these scenarios multiple times and had a very ad hoc, quick and dirty, kind of approach to it.\n",
    "Starting from scratch every time, which meant saving time in the short run but losing time and quality in the long run.\n",
    "\n",
    "When a colleague asked how complicated it would be to make a general-purpose tool for this kind of process, I saw that as an opportunity to finally do something about this and create a project for my public portfolio that is quite useful.  \n",
    "\n",
    "The result being **Anonymize df**, which is a python package and Alteryx macro that helps you quickly and easily generate realistically\n",
    "fake data from a Pandas DataFrame."
   ]
  },
  {
   "cell_type": "markdown",
   "metadata": {},
   "source": [
    "## Where to get it\n",
    "\n",
    "You can install it like you would any other package through pip:\n",
    "\n",
    "```bash\n",
    "pip install anonymizedf\n",
    "```\n",
    "\n",
    "You can also find it here:\n",
    "\n",
    "[Link to Python code](https://github.com/AlexFrid/anonymizedf)\n",
    "\n",
    "[Link to Alteryx macro](https://gallery.alteryx.com/#!app/anonymize-df-macro/5ee240928a933711005b527a)"
   ]
  },
  {
   "cell_type": "markdown",
   "metadata": {},
   "source": [
    "## Python usage"
   ]
  },
  {
   "cell_type": "code",
   "execution_count": 5,
   "metadata": {},
   "outputs": [],
   "source": [
    "import pandas as pd\n",
    "from anonymizedf.anonymizedf import anonymize\n",
    "\n",
    "# Import the data\n",
    "df = pd.read_csv(\"https://query.data.world/s/shcktxndtu3ojonm46tb5udlz7sp3e\")\n",
    "\n",
    "# Prepare the data to be anonymized\n",
    "an = anonymize(df)"
   ]
  },
  {
   "cell_type": "code",
   "execution_count": 6,
   "metadata": {},
   "outputs": [
    {
     "output_type": "execute_result",
     "data": {
      "text/plain": "  Customer ID  Customer Name  Loyalty Reward Points   Segment        Date  \\\n0    AA-10315     Alex Avila                     76  Consumer  01/01/2000   \n1    AA-10375   Allen Armold                    369  Consumer  02/01/2000   \n2    AA-10480   Andrew Allen                    162  Consumer  03/01/2000   \n3    AA-10645  Anna Andreadi                    803  Consumer  04/01/2000   \n4    AB-10015  Aaron Bergman                    935  Consumer  05/01/2000   \n\n   Fraction    Fake_Customer Name    Fake_Customer ID  \\\n0       7.6           Anne Briggs  FYKP18464993584790   \n1      36.9   Kathryn Poole-Owens  KQLT34683822176548   \n2      16.2  Dorothy Knight-Smith  KEKQ23089097589905   \n3      80.3       Dr. Dennis Lowe  JUFR80046496812327   \n4      93.5             Joan Read  ZLEK68784141425071   \n\n   Fake_Loyalty Reward Points Fake_Segment   Fake_Date  Fake_Fraction  \n0                         715    Segment 1  1988-02-21          81.70  \n1                         305    Segment 1  2012-01-21          49.64  \n2                         723    Segment 1  2017-12-05          45.49  \n3                         503    Segment 1  1993-08-19          43.85  \n4                         103    Segment 1  2018-10-26          65.30  ",
      "text/html": "<div>\n<style scoped>\n    .dataframe tbody tr th:only-of-type {\n        vertical-align: middle;\n    }\n\n    .dataframe tbody tr th {\n        vertical-align: top;\n    }\n\n    .dataframe thead th {\n        text-align: right;\n    }\n</style>\n<table border=\"1\" class=\"dataframe\">\n  <thead>\n    <tr style=\"text-align: right;\">\n      <th></th>\n      <th>Customer ID</th>\n      <th>Customer Name</th>\n      <th>Loyalty Reward Points</th>\n      <th>Segment</th>\n      <th>Date</th>\n      <th>Fraction</th>\n      <th>Fake_Customer Name</th>\n      <th>Fake_Customer ID</th>\n      <th>Fake_Loyalty Reward Points</th>\n      <th>Fake_Segment</th>\n      <th>Fake_Date</th>\n      <th>Fake_Fraction</th>\n    </tr>\n  </thead>\n  <tbody>\n    <tr>\n      <th>0</th>\n      <td>AA-10315</td>\n      <td>Alex Avila</td>\n      <td>76</td>\n      <td>Consumer</td>\n      <td>01/01/2000</td>\n      <td>7.6</td>\n      <td>Anne Briggs</td>\n      <td>FYKP18464993584790</td>\n      <td>715</td>\n      <td>Segment 1</td>\n      <td>1988-02-21</td>\n      <td>81.70</td>\n    </tr>\n    <tr>\n      <th>1</th>\n      <td>AA-10375</td>\n      <td>Allen Armold</td>\n      <td>369</td>\n      <td>Consumer</td>\n      <td>02/01/2000</td>\n      <td>36.9</td>\n      <td>Kathryn Poole-Owens</td>\n      <td>KQLT34683822176548</td>\n      <td>305</td>\n      <td>Segment 1</td>\n      <td>2012-01-21</td>\n      <td>49.64</td>\n    </tr>\n    <tr>\n      <th>2</th>\n      <td>AA-10480</td>\n      <td>Andrew Allen</td>\n      <td>162</td>\n      <td>Consumer</td>\n      <td>03/01/2000</td>\n      <td>16.2</td>\n      <td>Dorothy Knight-Smith</td>\n      <td>KEKQ23089097589905</td>\n      <td>723</td>\n      <td>Segment 1</td>\n      <td>2017-12-05</td>\n      <td>45.49</td>\n    </tr>\n    <tr>\n      <th>3</th>\n      <td>AA-10645</td>\n      <td>Anna Andreadi</td>\n      <td>803</td>\n      <td>Consumer</td>\n      <td>04/01/2000</td>\n      <td>80.3</td>\n      <td>Dr. Dennis Lowe</td>\n      <td>JUFR80046496812327</td>\n      <td>503</td>\n      <td>Segment 1</td>\n      <td>1993-08-19</td>\n      <td>43.85</td>\n    </tr>\n    <tr>\n      <th>4</th>\n      <td>AB-10015</td>\n      <td>Aaron Bergman</td>\n      <td>935</td>\n      <td>Consumer</td>\n      <td>05/01/2000</td>\n      <td>93.5</td>\n      <td>Joan Read</td>\n      <td>ZLEK68784141425071</td>\n      <td>103</td>\n      <td>Segment 1</td>\n      <td>2018-10-26</td>\n      <td>65.30</td>\n    </tr>\n  </tbody>\n</table>\n</div>"
     },
     "metadata": {},
     "execution_count": 6
    }
   ],
   "source": [
    "# Example 1 - just updates df\n",
    "an.fake_names(\"Customer Name\")\n",
    "an.fake_ids(\"Customer ID\")\n",
    "an.fake_whole_numbers(\"Loyalty Reward Points\")\n",
    "an.fake_categories(\"Segment\")\n",
    "an.fake_dates(\"Date\")\n",
    "an.fake_decimal_numbers(\"Fraction\")\n",
    "df.head()"
   ]
  },
  {
   "cell_type": "code",
   "execution_count": 7,
   "metadata": {},
   "outputs": [
    {
     "output_type": "execute_result",
     "data": {
      "text/plain": "  Customer ID  Customer Name  Loyalty Reward Points   Segment        Date  \\\n0    AA-10315     Alex Avila                     76  Consumer  01/01/2000   \n1    AA-10375   Allen Armold                    369  Consumer  02/01/2000   \n2    AA-10480   Andrew Allen                    162  Consumer  03/01/2000   \n3    AA-10645  Anna Andreadi                    803  Consumer  04/01/2000   \n4    AB-10015  Aaron Bergman                    935  Consumer  05/01/2000   \n\n   Fraction   Fake_Customer Name    Fake_Customer ID  \\\n0       7.6      Matthew Elliott  KQPQ33621304584922   \n1      36.9        Lynne Harding  CLAA15849783691822   \n2      16.2     Dr. Molly Holmes  VTWU51877283324210   \n3      80.3  Mr. Frederick Price  MVFX95041828905565   \n4      93.5          Dean Davies  CRXZ11641101775380   \n\n   Fake_Loyalty Reward Points Fake_Segment   Fake_Date  Fake_Fraction  \n0                          62    Segment 1  2011-05-24          96.96  \n1                         494    Segment 1  2000-10-14          20.78  \n2                         383    Segment 1  1994-01-30          66.87  \n3                          82    Segment 1  2000-01-11          25.77  \n4                         786    Segment 1  1996-08-19          38.32  ",
      "text/html": "<div>\n<style scoped>\n    .dataframe tbody tr th:only-of-type {\n        vertical-align: middle;\n    }\n\n    .dataframe tbody tr th {\n        vertical-align: top;\n    }\n\n    .dataframe thead th {\n        text-align: right;\n    }\n</style>\n<table border=\"1\" class=\"dataframe\">\n  <thead>\n    <tr style=\"text-align: right;\">\n      <th></th>\n      <th>Customer ID</th>\n      <th>Customer Name</th>\n      <th>Loyalty Reward Points</th>\n      <th>Segment</th>\n      <th>Date</th>\n      <th>Fraction</th>\n      <th>Fake_Customer Name</th>\n      <th>Fake_Customer ID</th>\n      <th>Fake_Loyalty Reward Points</th>\n      <th>Fake_Segment</th>\n      <th>Fake_Date</th>\n      <th>Fake_Fraction</th>\n    </tr>\n  </thead>\n  <tbody>\n    <tr>\n      <th>0</th>\n      <td>AA-10315</td>\n      <td>Alex Avila</td>\n      <td>76</td>\n      <td>Consumer</td>\n      <td>01/01/2000</td>\n      <td>7.6</td>\n      <td>Matthew Elliott</td>\n      <td>KQPQ33621304584922</td>\n      <td>62</td>\n      <td>Segment 1</td>\n      <td>2011-05-24</td>\n      <td>96.96</td>\n    </tr>\n    <tr>\n      <th>1</th>\n      <td>AA-10375</td>\n      <td>Allen Armold</td>\n      <td>369</td>\n      <td>Consumer</td>\n      <td>02/01/2000</td>\n      <td>36.9</td>\n      <td>Lynne Harding</td>\n      <td>CLAA15849783691822</td>\n      <td>494</td>\n      <td>Segment 1</td>\n      <td>2000-10-14</td>\n      <td>20.78</td>\n    </tr>\n    <tr>\n      <th>2</th>\n      <td>AA-10480</td>\n      <td>Andrew Allen</td>\n      <td>162</td>\n      <td>Consumer</td>\n      <td>03/01/2000</td>\n      <td>16.2</td>\n      <td>Dr. Molly Holmes</td>\n      <td>VTWU51877283324210</td>\n      <td>383</td>\n      <td>Segment 1</td>\n      <td>1994-01-30</td>\n      <td>66.87</td>\n    </tr>\n    <tr>\n      <th>3</th>\n      <td>AA-10645</td>\n      <td>Anna Andreadi</td>\n      <td>803</td>\n      <td>Consumer</td>\n      <td>04/01/2000</td>\n      <td>80.3</td>\n      <td>Mr. Frederick Price</td>\n      <td>MVFX95041828905565</td>\n      <td>82</td>\n      <td>Segment 1</td>\n      <td>2000-01-11</td>\n      <td>25.77</td>\n    </tr>\n    <tr>\n      <th>4</th>\n      <td>AB-10015</td>\n      <td>Aaron Bergman</td>\n      <td>935</td>\n      <td>Consumer</td>\n      <td>05/01/2000</td>\n      <td>93.5</td>\n      <td>Dean Davies</td>\n      <td>CRXZ11641101775380</td>\n      <td>786</td>\n      <td>Segment 1</td>\n      <td>1996-08-19</td>\n      <td>38.32</td>\n    </tr>\n  </tbody>\n</table>\n</div>"
     },
     "metadata": {},
     "execution_count": 7
    }
   ],
   "source": [
    "# Example 2 - method chaining\n",
    "fake_df = (\n",
    "    an\n",
    "    .fake_names(\"Customer Name\", chaining=True)\n",
    "    .fake_ids(\"Customer ID\", chaining=True)\n",
    "    .fake_whole_numbers(\"Loyalty Reward Points\", chaining=True)\n",
    "    .fake_categories(\"Segment\", chaining=True)\n",
    "    .fake_dates(\"Date\", chaining=True)\n",
    "    .fake_decimal_numbers(\"Fraction\", chaining=True)\n",
    "    .show_data_frame()\n",
    ")\n",
    "fake_df.head()"
   ]
  },
  {
   "cell_type": "code",
   "execution_count": 10,
   "metadata": {},
   "outputs": [
    {
     "output_type": "execute_result",
     "data": {
      "text/plain": "  Customer ID  Customer Name  Loyalty Reward Points   Segment        Date  \\\n0    AA-10315     Alex Avila                     76  Consumer  01/01/2000   \n1    AA-10375   Allen Armold                    369  Consumer  02/01/2000   \n2    AA-10480   Andrew Allen                    162  Consumer  03/01/2000   \n3    AA-10645  Anna Andreadi                    803  Consumer  04/01/2000   \n4    AB-10015  Aaron Bergman                    935  Consumer  05/01/2000   \n\n   Fraction Fake_Customer Name Fake_Customer ID  Fake_Loyalty Reward Points  \\\n0       7.6    Customer Name 1    Customer ID 1                          62   \n1      36.9    Customer Name 2    Customer ID 2                         494   \n2      16.2    Customer Name 3    Customer ID 3                         383   \n3      80.3    Customer Name 4    Customer ID 4                          82   \n4      93.5    Customer Name 5    Customer ID 5                         786   \n\n  Fake_Segment Fake_Date  Fake_Fraction  \n0    Segment 1    Date 1          96.96  \n1    Segment 1    Date 2          20.78  \n2    Segment 1    Date 3          66.87  \n3    Segment 1    Date 4          25.77  \n4    Segment 1    Date 5          38.32  ",
      "text/html": "<div>\n<style scoped>\n    .dataframe tbody tr th:only-of-type {\n        vertical-align: middle;\n    }\n\n    .dataframe tbody tr th {\n        vertical-align: top;\n    }\n\n    .dataframe thead th {\n        text-align: right;\n    }\n</style>\n<table border=\"1\" class=\"dataframe\">\n  <thead>\n    <tr style=\"text-align: right;\">\n      <th></th>\n      <th>Customer ID</th>\n      <th>Customer Name</th>\n      <th>Loyalty Reward Points</th>\n      <th>Segment</th>\n      <th>Date</th>\n      <th>Fraction</th>\n      <th>Fake_Customer Name</th>\n      <th>Fake_Customer ID</th>\n      <th>Fake_Loyalty Reward Points</th>\n      <th>Fake_Segment</th>\n      <th>Fake_Date</th>\n      <th>Fake_Fraction</th>\n    </tr>\n  </thead>\n  <tbody>\n    <tr>\n      <th>0</th>\n      <td>AA-10315</td>\n      <td>Alex Avila</td>\n      <td>76</td>\n      <td>Consumer</td>\n      <td>01/01/2000</td>\n      <td>7.6</td>\n      <td>Customer Name 1</td>\n      <td>Customer ID 1</td>\n      <td>62</td>\n      <td>Segment 1</td>\n      <td>Date 1</td>\n      <td>96.96</td>\n    </tr>\n    <tr>\n      <th>1</th>\n      <td>AA-10375</td>\n      <td>Allen Armold</td>\n      <td>369</td>\n      <td>Consumer</td>\n      <td>02/01/2000</td>\n      <td>36.9</td>\n      <td>Customer Name 2</td>\n      <td>Customer ID 2</td>\n      <td>494</td>\n      <td>Segment 1</td>\n      <td>Date 2</td>\n      <td>20.78</td>\n    </tr>\n    <tr>\n      <th>2</th>\n      <td>AA-10480</td>\n      <td>Andrew Allen</td>\n      <td>162</td>\n      <td>Consumer</td>\n      <td>03/01/2000</td>\n      <td>16.2</td>\n      <td>Customer Name 3</td>\n      <td>Customer ID 3</td>\n      <td>383</td>\n      <td>Segment 1</td>\n      <td>Date 3</td>\n      <td>66.87</td>\n    </tr>\n    <tr>\n      <th>3</th>\n      <td>AA-10645</td>\n      <td>Anna Andreadi</td>\n      <td>803</td>\n      <td>Consumer</td>\n      <td>04/01/2000</td>\n      <td>80.3</td>\n      <td>Customer Name 4</td>\n      <td>Customer ID 4</td>\n      <td>82</td>\n      <td>Segment 1</td>\n      <td>Date 4</td>\n      <td>25.77</td>\n    </tr>\n    <tr>\n      <th>4</th>\n      <td>AB-10015</td>\n      <td>Aaron Bergman</td>\n      <td>935</td>\n      <td>Consumer</td>\n      <td>05/01/2000</td>\n      <td>93.5</td>\n      <td>Customer Name 5</td>\n      <td>Customer ID 5</td>\n      <td>786</td>\n      <td>Segment 1</td>\n      <td>Date 5</td>\n      <td>38.32</td>\n    </tr>\n  </tbody>\n</table>\n</div>"
     },
     "metadata": {},
     "execution_count": 10
    }
   ],
   "source": [
    "# Example 4 - for multiple columns\n",
    "\n",
    "column_list = [\"Segment\", \"Customer Name\", \"Customer ID\", \"Date\"]\n",
    "\n",
    "for column in column_list:\n",
    "     an.fake_categories(column)\n",
    "df.head()"
   ]
  },
  {
   "cell_type": "code",
   "execution_count": 12,
   "metadata": {},
   "outputs": [
    {
     "output_type": "execute_result",
     "data": {
      "text/plain": "  category  number\n0      low     0.1\n1      low     1.0\n2     high    10.1\n3     high   100.1",
      "text/html": "<div>\n<style scoped>\n    .dataframe tbody tr th:only-of-type {\n        vertical-align: middle;\n    }\n\n    .dataframe tbody tr th {\n        vertical-align: top;\n    }\n\n    .dataframe thead th {\n        text-align: right;\n    }\n</style>\n<table border=\"1\" class=\"dataframe\">\n  <thead>\n    <tr style=\"text-align: right;\">\n      <th></th>\n      <th>category</th>\n      <th>number</th>\n    </tr>\n  </thead>\n  <tbody>\n    <tr>\n      <th>0</th>\n      <td>low</td>\n      <td>0.1</td>\n    </tr>\n    <tr>\n      <th>1</th>\n      <td>low</td>\n      <td>1.0</td>\n    </tr>\n    <tr>\n      <th>2</th>\n      <td>high</td>\n      <td>10.1</td>\n    </tr>\n    <tr>\n      <th>3</th>\n      <td>high</td>\n      <td>100.1</td>\n    </tr>\n  </tbody>\n</table>\n</div>"
     },
     "metadata": {},
     "execution_count": 12
    }
   ],
   "source": [
    "# Example 5 - grouping\n",
    "\n",
    "d2 = {\"category\": [\"low\", \"low\", \"high\", \"high\"], \"number\": [0.1, 1, 10.1, 100.1]}\n",
    "df2 = pd.DataFrame(data=d2)\n",
    "\n",
    "an = anonymize(df2)\n",
    "df2.head()"
   ]
  },
  {
   "cell_type": "code",
   "execution_count": 15,
   "metadata": {},
   "outputs": [
    {
     "output_type": "execute_result",
     "data": {
      "text/plain": "  category  number  Fake_number\n0      low     0.1        86.03\n1      low     1.0        64.72\n2     high    10.1        68.66\n3     high   100.1        13.41",
      "text/html": "<div>\n<style scoped>\n    .dataframe tbody tr th:only-of-type {\n        vertical-align: middle;\n    }\n\n    .dataframe tbody tr th {\n        vertical-align: top;\n    }\n\n    .dataframe thead th {\n        text-align: right;\n    }\n</style>\n<table border=\"1\" class=\"dataframe\">\n  <thead>\n    <tr style=\"text-align: right;\">\n      <th></th>\n      <th>category</th>\n      <th>number</th>\n      <th>Fake_number</th>\n    </tr>\n  </thead>\n  <tbody>\n    <tr>\n      <th>0</th>\n      <td>low</td>\n      <td>0.1</td>\n      <td>86.03</td>\n    </tr>\n    <tr>\n      <th>1</th>\n      <td>low</td>\n      <td>1.0</td>\n      <td>64.72</td>\n    </tr>\n    <tr>\n      <th>2</th>\n      <td>high</td>\n      <td>10.1</td>\n      <td>68.66</td>\n    </tr>\n    <tr>\n      <th>3</th>\n      <td>high</td>\n      <td>100.1</td>\n      <td>13.41</td>\n    </tr>\n  </tbody>\n</table>\n</div>"
     },
     "metadata": {},
     "execution_count": 15
    }
   ],
   "source": [
    "# Without grouping - relative relationships lost when generating fake data\n",
    "an.fake_decimal_numbers(\"number\")\n",
    "df2.head()"
   ]
  },
  {
   "cell_type": "code",
   "execution_count": 16,
   "metadata": {},
   "outputs": [
    {
     "output_type": "stream",
     "name": "stdout",
     "text": "Grouped by category\n"
    },
    {
     "output_type": "execute_result",
     "data": {
      "text/plain": "  category  number  Fake_number\n0      low     0.1         0.38\n1      low     1.0         0.92\n2     high    10.1        63.70\n3     high   100.1        59.40",
      "text/html": "<div>\n<style scoped>\n    .dataframe tbody tr th:only-of-type {\n        vertical-align: middle;\n    }\n\n    .dataframe tbody tr th {\n        vertical-align: top;\n    }\n\n    .dataframe thead th {\n        text-align: right;\n    }\n</style>\n<table border=\"1\" class=\"dataframe\">\n  <thead>\n    <tr style=\"text-align: right;\">\n      <th></th>\n      <th>category</th>\n      <th>number</th>\n      <th>Fake_number</th>\n    </tr>\n  </thead>\n  <tbody>\n    <tr>\n      <th>0</th>\n      <td>low</td>\n      <td>0.1</td>\n      <td>0.38</td>\n    </tr>\n    <tr>\n      <th>1</th>\n      <td>low</td>\n      <td>1.0</td>\n      <td>0.92</td>\n    </tr>\n    <tr>\n      <th>2</th>\n      <td>high</td>\n      <td>10.1</td>\n      <td>63.70</td>\n    </tr>\n    <tr>\n      <th>3</th>\n      <td>high</td>\n      <td>100.1</td>\n      <td>59.40</td>\n    </tr>\n  </tbody>\n</table>\n</div>"
     },
     "metadata": {},
     "execution_count": 16
    }
   ],
   "source": [
    "# With grouping - relative relationships remain the same\n",
    "an.fake_decimal_numbers(\"number\", \"category\")\n",
    "df2.head()"
   ]
  },
  {
   "cell_type": "markdown",
   "metadata": {},
   "source": [
    "## Alteryx usage"
   ]
  },
  {
   "cell_type": "markdown",
   "metadata": {},
   "source": [
    "The Macro can be downloaded from the [gallery](https://gallery.alteryx.com/#!app/anonymize-df-macro/5ee240928a933711005b527a) and used just like any other macro\n",
    "\n",
    "![Workflow overview](anonymize_your_data/anon_workflow_example.png)"
   ]
  },
  {
   "cell_type": "markdown",
   "metadata": {},
   "source": [
    "The interface for using the macro should be quite straightforward, if not let me know ;)\n",
    "\n",
    "![interface example](anonymize_your_data/anon_interface_example.png)"
   ]
  },
  {
   "cell_type": "markdown",
   "metadata": {},
   "source": [
    "If you have any thoughts / comments feel free to let me know\n",
    "\n",
    "Also let me know if you'd be interested in a \"behind the scenes\" post / video about how this was created."
   ]
  }
 ],
 "metadata": {
  "language_info": {
   "codemirror_mode": {
    "name": "ipython",
    "version": 3
   },
   "file_extension": ".py",
   "mimetype": "text/x-python",
   "name": "python",
   "nbconvert_exporter": "python",
   "pygments_lexer": "ipython3",
   "version": "3.7.3-final"
  },
  "orig_nbformat": 2,
  "kernelspec": {
   "name": "python37364bitb637a8003108455dbff143191b05c78c",
   "display_name": "Python 3.7.3 64-bit"
  }
 },
 "nbformat": 4,
 "nbformat_minor": 2
}