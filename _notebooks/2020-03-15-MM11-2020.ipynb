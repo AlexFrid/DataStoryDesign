{
 "nbformat": 4,
 "nbformat_minor": 2,
 "metadata": {
  "language_info": {
   "name": "python",
   "codemirror_mode": {
    "name": "ipython",
    "version": 3
   },
   "version": "3.7.1-final"
  },
  "orig_nbformat": 2,
  "file_extension": ".py",
  "mimetype": "text/x-python",
  "name": "python",
  "npconvert_exporter": "python",
  "pygments_lexer": "ipython3",
  "version": 3,
  "kernelspec": {
   "name": "python37364bitb637a8003108455dbff143191b05c78c",
   "display_name": "Python 3.7.3 64-bit"
  }
 },
 "cells": [
  {
   "cell_type": "markdown",
   "metadata": {},
   "source": [
    "# Fastpages Notebook Blog Post\n",
    "> A tutorial of fastpages for Jupyter notebooks.\n",
    "\n",
    "- toc: true \n",
    "- badges: true\n",
    "- comments: true\n",
    "- hide: true\n",
    "- search_exclude: false\n",
    "- categories: [jupyter]\n",
    "- image: images/chart-preview.png"
   ]
  },
  {
   "cell_type": "code",
   "execution_count": 1,
   "metadata": {},
   "outputs": [
    {
     "name": "stdout",
     "output_type": "stream",
     "text": "Entity Code  Year  GDP per capita (constant 2011 international $)  \\\n0  Afghanistan  AFG  1800                                             NaN   \n1  Afghanistan  AFG  1801                                             NaN   \n2  Afghanistan  AFG  1802                                             NaN   \n3  Afghanistan  AFG  1803                                             NaN   \n4  Afghanistan  AFG  1804                                             NaN   \n\n    Life satisfaction (country average; 0-10) (Cantril Ladder (0=worst; 10=best))  \\\n0                                                NaN                                \n1                                                NaN                                \n2                                                NaN                                \n3                                                NaN                                \n4                                                NaN                                \n\n   Unnamed: 5  \n0   3280000.0  \n1   3280000.0  \n2   3280000.0  \n3   3280000.0  \n4   3280000.0  \n"
    }
   ],
   "source": [
    "import pandas as pd\n",
    "import altair as alt\n",
    "df = pd.read_csv('https://query.data.world/s/mtjbovljwstf372q6v5lkv5b4g2tmg')\n",
    "print(df.head())"
   ]
  },
  {
   "cell_type": "code",
   "execution_count": null,
   "metadata": {},
   "outputs": [],
   "source": [
    "alt."
   ]
  }
 ]
}