{
 "cells": [
  {
   "cell_type": "markdown",
   "metadata": {},
   "source": [
    "# Read and write hyper files in Python\n",
    "> A simple way to go between Tableau hyper files and Pandas DataFrames\n",
    "\n",
    "- toc: false\n",
    "- badges: false\n",
    "- comments: false\n",
    "- image: images/header_images/tableau-to-python.png\n",
    "- categories: [Python, Tableau]"
   ]
  },
  {
   "cell_type": "markdown",
   "metadata": {},
   "source": [
    "# Tableau Hyper IO\n",
    "A simple wrapper for the [Tableau Hyper API](https://help.tableau.com/current/api/hyper_api/en-us/index.html)\n",
    "\n",
    "[Click here to see the code on GitHub](https://github.com/AlexFrid/tableauhyperio)"
   ]
  },
  {
   "cell_type": "markdown",
   "metadata": {},
   "source": [
    "## Why was this made?\n",
    "For a project I was working on I needed to read hyper files.\n",
    "I searched if a package already existed and found only the [pandleau](https://pypi.org/project/pandleau/) package,\n",
    "which only writes to hyper files but does not read them and also uses the older extract 2.0 API.\n",
    "Since I couldn't find any other package that met my needs I decided to make one myself, which has been a good learning experience.\n"
   ]
  },
  {
   "cell_type": "markdown",
   "metadata": {},
   "source": [
    "## Installation\n",
    "\n",
    "You can install tableauhyperio using pip:\n",
    "```bash\n",
    "pip install tableauhyperio\n",
    "```\n",
    "This will also try downloading the Tableau hyper API, tqdm, pandas.\n",
    "\n",
    "## Example usage\n",
    "```python\n",
    "import tableauhyperio as hio\n",
    "\n",
    "# Reading a regular hyper file\n",
    "df = hio.read_hyper(\"example.hyper\")\n",
    "\n",
    "# Reading a hyper file with a custom schema\n",
    "df = hio.read_hyper(\"example.hyper\", \"my_schema\")\n",
    "\n",
    "# Writing a regular hyper file\n",
    "hio.to_hyper(df, \"example_output.hyper\")\n",
    "\n",
    "# Writing a hyper file with a custom schema and custom table name\n",
    "hio.to_hyper(df, \"example_output.hyper\", \"my_schema\", \"my_table\")\n",
    "```"
   ]
  }
 ],
 "metadata": {
  "language_info": {
   "codemirror_mode": {
    "name": "ipython",
    "version": 3
   },
   "file_extension": ".py",
   "mimetype": "text/x-python",
   "name": "python",
   "nbconvert_exporter": "python",
   "pygments_lexer": "ipython3",
   "version": 3
  },
  "orig_nbformat": 2
 },
 "nbformat": 4,
 "nbformat_minor": 2
}